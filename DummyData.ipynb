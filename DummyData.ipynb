{
 "cells": [
  {
   "cell_type": "code",
   "execution_count": 1,
   "metadata": {},
   "outputs": [
    {
     "name": "stderr",
     "output_type": "stream",
     "text": [
      "C:\\Users\\benni\\anaconda3\\envs\\PythonData\\lib\\site-packages\\tensorflow\\python\\framework\\dtypes.py:516: FutureWarning: Passing (type, 1) or '1type' as a synonym of type is deprecated; in a future version of numpy, it will be understood as (type, (1,)) / '(1,)type'.\n",
      "  _np_qint8 = np.dtype([(\"qint8\", np.int8, 1)])\n",
      "C:\\Users\\benni\\anaconda3\\envs\\PythonData\\lib\\site-packages\\tensorflow\\python\\framework\\dtypes.py:517: FutureWarning: Passing (type, 1) or '1type' as a synonym of type is deprecated; in a future version of numpy, it will be understood as (type, (1,)) / '(1,)type'.\n",
      "  _np_quint8 = np.dtype([(\"quint8\", np.uint8, 1)])\n",
      "C:\\Users\\benni\\anaconda3\\envs\\PythonData\\lib\\site-packages\\tensorflow\\python\\framework\\dtypes.py:518: FutureWarning: Passing (type, 1) or '1type' as a synonym of type is deprecated; in a future version of numpy, it will be understood as (type, (1,)) / '(1,)type'.\n",
      "  _np_qint16 = np.dtype([(\"qint16\", np.int16, 1)])\n",
      "C:\\Users\\benni\\anaconda3\\envs\\PythonData\\lib\\site-packages\\tensorflow\\python\\framework\\dtypes.py:519: FutureWarning: Passing (type, 1) or '1type' as a synonym of type is deprecated; in a future version of numpy, it will be understood as (type, (1,)) / '(1,)type'.\n",
      "  _np_quint16 = np.dtype([(\"quint16\", np.uint16, 1)])\n",
      "C:\\Users\\benni\\anaconda3\\envs\\PythonData\\lib\\site-packages\\tensorflow\\python\\framework\\dtypes.py:520: FutureWarning: Passing (type, 1) or '1type' as a synonym of type is deprecated; in a future version of numpy, it will be understood as (type, (1,)) / '(1,)type'.\n",
      "  _np_qint32 = np.dtype([(\"qint32\", np.int32, 1)])\n",
      "C:\\Users\\benni\\anaconda3\\envs\\PythonData\\lib\\site-packages\\tensorflow\\python\\framework\\dtypes.py:525: FutureWarning: Passing (type, 1) or '1type' as a synonym of type is deprecated; in a future version of numpy, it will be understood as (type, (1,)) / '(1,)type'.\n",
      "  np_resource = np.dtype([(\"resource\", np.ubyte, 1)])\n",
      "C:\\Users\\benni\\anaconda3\\envs\\PythonData\\lib\\site-packages\\tensorboard\\compat\\tensorflow_stub\\dtypes.py:541: FutureWarning: Passing (type, 1) or '1type' as a synonym of type is deprecated; in a future version of numpy, it will be understood as (type, (1,)) / '(1,)type'.\n",
      "  _np_qint8 = np.dtype([(\"qint8\", np.int8, 1)])\n",
      "C:\\Users\\benni\\anaconda3\\envs\\PythonData\\lib\\site-packages\\tensorboard\\compat\\tensorflow_stub\\dtypes.py:542: FutureWarning: Passing (type, 1) or '1type' as a synonym of type is deprecated; in a future version of numpy, it will be understood as (type, (1,)) / '(1,)type'.\n",
      "  _np_quint8 = np.dtype([(\"quint8\", np.uint8, 1)])\n",
      "C:\\Users\\benni\\anaconda3\\envs\\PythonData\\lib\\site-packages\\tensorboard\\compat\\tensorflow_stub\\dtypes.py:543: FutureWarning: Passing (type, 1) or '1type' as a synonym of type is deprecated; in a future version of numpy, it will be understood as (type, (1,)) / '(1,)type'.\n",
      "  _np_qint16 = np.dtype([(\"qint16\", np.int16, 1)])\n",
      "C:\\Users\\benni\\anaconda3\\envs\\PythonData\\lib\\site-packages\\tensorboard\\compat\\tensorflow_stub\\dtypes.py:544: FutureWarning: Passing (type, 1) or '1type' as a synonym of type is deprecated; in a future version of numpy, it will be understood as (type, (1,)) / '(1,)type'.\n",
      "  _np_quint16 = np.dtype([(\"quint16\", np.uint16, 1)])\n",
      "C:\\Users\\benni\\anaconda3\\envs\\PythonData\\lib\\site-packages\\tensorboard\\compat\\tensorflow_stub\\dtypes.py:545: FutureWarning: Passing (type, 1) or '1type' as a synonym of type is deprecated; in a future version of numpy, it will be understood as (type, (1,)) / '(1,)type'.\n",
      "  _np_qint32 = np.dtype([(\"qint32\", np.int32, 1)])\n",
      "C:\\Users\\benni\\anaconda3\\envs\\PythonData\\lib\\site-packages\\tensorboard\\compat\\tensorflow_stub\\dtypes.py:550: FutureWarning: Passing (type, 1) or '1type' as a synonym of type is deprecated; in a future version of numpy, it will be understood as (type, (1,)) / '(1,)type'.\n",
      "  np_resource = np.dtype([(\"resource\", np.ubyte, 1)])\n"
     ]
    }
   ],
   "source": [
    "# Import our dependencies\n",
    "import pandas as pd\n",
    "import matplotlib as plt\n",
    "from sklearn.datasets import make_blobs\n",
    "import sklearn as skl\n",
    "import tensorflow as tf"
   ]
  },
  {
   "cell_type": "code",
   "execution_count": 2,
   "metadata": {},
   "outputs": [
    {
     "data": {
      "text/plain": [
       "<matplotlib.axes._subplots.AxesSubplot at 0x26910373148>"
      ]
     },
     "execution_count": 2,
     "metadata": {},
     "output_type": "execute_result"
    },
    {
     "data": {
      "image/png": "[encoded data removed]",
      "text/plain": [
       "<Figure size 432x288 with 2 Axes>"
      ]
     },
     "metadata": {
      "needs_background": "light"
     },
     "output_type": "display_data"
    }
   ],
   "source": [
    "# Generate dummy dataset\n",
    "X, y = make_blobs(n_samples=1000, centers=2, n_features=2, random_state=78)\n",
    "\n",
    "# Creating a DataFrame with the dummy data\n",
    "df = pd.DataFrame(X, columns=[\"Feature 1\", \"Feature 2\"])\n",
    "df[\"Target\"] = y\n",
    "\n",
    "# Plotting the dummy data\n",
    "df.plot.scatter(x=\"Feature 1\", y=\"Feature 2\", c=\"Target\", colormap=\"winter\")"
   ]
  },
  {
   "cell_type": "code",
   "execution_count": 3,
   "metadata": {},
   "outputs": [],
   "source": [
    "# Use sklearn to split dataset\n",
    "from sklearn.model_selection import train_test_split\n",
    "X_train, X_test, y_train, y_test = train_test_split(X, y, random_state=78)"
   ]
  },
  {
   "cell_type": "code",
   "execution_count": 4,
   "metadata": {},
   "outputs": [],
   "source": [
    "# Create scaler instance\n",
    "X_scaler = skl.preprocessing.StandardScaler()\n",
    "\n",
    "# Fit the scaler\n",
    "X_scaler.fit(X_train)\n",
    "\n",
    "# Scale the data\n",
    "X_train_scaled = X_scaler.transform(X_train)\n",
    "X_test_scaled = X_scaler.transform(X_test)"
   ]
  },
  {
   "cell_type": "code",
   "execution_count": 5,
   "metadata": {},
   "outputs": [],
   "source": [
    "# Create the Keras Sequential model\n",
    "nn_model = tf.keras.models.Sequential()"
   ]
  },
  {
   "cell_type": "code",
   "execution_count": 6,
   "metadata": {},
   "outputs": [
    {
     "name": "stdout",
     "output_type": "stream",
     "text": [
      "WARNING:tensorflow:From C:\\Users\\benni\\anaconda3\\envs\\PythonData\\lib\\site-packages\\tensorflow\\python\\ops\\init_ops.py:1251: calling VarianceScaling.__init__ (from tensorflow.python.ops.init_ops) with dtype is deprecated and will be removed in a future version.\n",
      "Instructions for updating:\n",
      "Call initializer instance with the dtype argument instead of passing it to the constructor\n"
     ]
    }
   ],
   "source": [
    "# Add our first Dense layer, including the input layer\n",
    "nn_model.add(tf.keras.layers.Dense(units=1, activation=\"relu\", input_dim=2))"
   ]
  },
  {
   "cell_type": "code",
   "execution_count": 7,
   "metadata": {},
   "outputs": [],
   "source": [
    "# Add the output layer that uses a probability activation function\n",
    "nn_model.add(tf.keras.layers.Dense(units=1, activation=\"sigmoid\"))"
   ]
  },
  {
   "cell_type": "code",
   "execution_count": 8,
   "metadata": {},
   "outputs": [
    {
     "name": "stdout",
     "output_type": "stream",
     "text": [
      "Model: \"sequential\"\n",
      "_________________________________________________________________\n",
      "Layer (type)                 Output Shape              Param #   \n",
      "=================================================================\n",
      "dense (Dense)                (None, 1)                 3         \n",
      "_________________________________________________________________\n",
      "dense_1 (Dense)              (None, 1)                 2         \n",
      "=================================================================\n",
      "Total params: 5\n",
      "Trainable params: 5\n",
      "Non-trainable params: 0\n",
      "_________________________________________________________________\n"
     ]
    }
   ],
   "source": [
    "# Check the structure of the Sequential model\n",
    "nn_model.summary()"
   ]
  },
  {
   "cell_type": "code",
   "execution_count": 9,
   "metadata": {},
   "outputs": [
    {
     "name": "stdout",
     "output_type": "stream",
     "text": [
      "WARNING:tensorflow:From C:\\Users\\benni\\anaconda3\\envs\\PythonData\\lib\\site-packages\\tensorflow\\python\\ops\\nn_impl.py:180: add_dispatch_support.<locals>.wrapper (from tensorflow.python.ops.array_ops) is deprecated and will be removed in a future version.\n",
      "Instructions for updating:\n",
      "Use tf.where in 2.0, which has the same broadcast rule as np.where\n"
     ]
    }
   ],
   "source": [
    "# Compile the Sequential model together and customize metrics\n",
    "nn_model.compile(loss=\"binary_crossentropy\", optimizer=\"adam\", metrics=[\"accuracy\"])"
   ]
  },
  {
   "cell_type": "code",
   "execution_count": 10,
   "metadata": {},
   "outputs": [
    {
     "name": "stdout",
     "output_type": "stream",
     "text": [
      "Epoch 1/100\n",
      "750/750 [==============================] - 0s 401us/sample - loss: 0.7579 - acc: 0.4307\n",
      "Epoch 2/100\n",
      "750/750 [==============================] - 0s 71us/sample - loss: 0.7450 - acc: 0.4533\n",
      "Epoch 3/100\n",
      "750/750 [==============================] - 0s 72us/sample - loss: 0.7340 - acc: 0.4667\n",
      "Epoch 4/100\n",
      "750/750 [==============================] - 0s 71us/sample - loss: 0.7245 - acc: 0.4840\n",
      "Epoch 5/100\n",
      "750/750 [==============================] - 0s 81us/sample - loss: 0.7155 - acc: 0.4960\n",
      "Epoch 6/100\n",
      "750/750 [==============================] - 0s 73us/sample - loss: 0.7078 - acc: 0.5040\n",
      "Epoch 7/100\n",
      "750/750 [==============================] - 0s 72us/sample - loss: 0.7006 - acc: 0.5280\n",
      "Epoch 8/100\n",
      "750/750 [==============================] - 0s 75us/sample - loss: 0.6939 - acc: 0.5387\n",
      "Epoch 9/100\n",
      "750/750 [==============================] - 0s 71us/sample - loss: 0.6877 - acc: 0.5507\n",
      "Epoch 10/100\n",
      "750/750 [==============================] - 0s 71us/sample - loss: 0.6820 - acc: 0.5707\n",
      "Epoch 11/100\n",
      "750/750 [==============================] - 0s 71us/sample - loss: 0.6766 - acc: 0.5813\n",
      "Epoch 12/100\n",
      "750/750 [==============================] - 0s 69us/sample - loss: 0.6716 - acc: 0.5893\n",
      "Epoch 13/100\n",
      "750/750 [==============================] - 0s 67us/sample - loss: 0.6665 - acc: 0.6040\n",
      "Epoch 14/100\n",
      "750/750 [==============================] - 0s 68us/sample - loss: 0.6615 - acc: 0.6107\n",
      "Epoch 15/100\n",
      "750/750 [==============================] - 0s 67us/sample - loss: 0.6563 - acc: 0.6227\n",
      "Epoch 16/100\n",
      "750/750 [==============================] - 0s 70us/sample - loss: 0.6511 - acc: 0.6347\n",
      "Epoch 17/100\n",
      "750/750 [==============================] - 0s 68us/sample - loss: 0.6458 - acc: 0.6427\n",
      "Epoch 18/100\n",
      "750/750 [==============================] - 0s 81us/sample - loss: 0.6404 - acc: 0.6547\n",
      "Epoch 19/100\n",
      "750/750 [==============================] - 0s 83us/sample - loss: 0.6349 - acc: 0.6600\n",
      "Epoch 20/100\n",
      "750/750 [==============================] - 0s 89us/sample - loss: 0.6290 - acc: 0.6707\n",
      "Epoch 21/100\n",
      "750/750 [==============================] - 0s 60us/sample - loss: 0.6230 - acc: 0.6840\n",
      "Epoch 22/100\n",
      "750/750 [==============================] - 0s 60us/sample - loss: 0.6169 - acc: 0.6867\n",
      "Epoch 23/100\n",
      "750/750 [==============================] - 0s 60us/sample - loss: 0.6106 - acc: 0.6960\n",
      "Epoch 24/100\n",
      "750/750 [==============================] - 0s 55us/sample - loss: 0.6040 - acc: 0.7000\n",
      "Epoch 25/100\n",
      "750/750 [==============================] - 0s 52us/sample - loss: 0.5970 - acc: 0.7120\n",
      "Epoch 26/100\n",
      "750/750 [==============================] - 0s 53us/sample - loss: 0.5902 - acc: 0.7200\n",
      "Epoch 27/100\n",
      "750/750 [==============================] - 0s 49us/sample - loss: 0.5830 - acc: 0.7253\n",
      "Epoch 28/100\n",
      "750/750 [==============================] - 0s 49us/sample - loss: 0.5757 - acc: 0.7320\n",
      "Epoch 29/100\n",
      "750/750 [==============================] - 0s 49us/sample - loss: 0.5681 - acc: 0.7453\n",
      "Epoch 30/100\n",
      "750/750 [==============================] - 0s 55us/sample - loss: 0.5603 - acc: 0.7507\n",
      "Epoch 31/100\n",
      "750/750 [==============================] - 0s 51us/sample - loss: 0.5525 - acc: 0.7600\n",
      "Epoch 32/100\n",
      "750/750 [==============================] - 0s 53us/sample - loss: 0.5446 - acc: 0.7680\n",
      "Epoch 33/100\n",
      "750/750 [==============================] - 0s 47us/sample - loss: 0.5366 - acc: 0.7747\n",
      "Epoch 34/100\n",
      "750/750 [==============================] - 0s 52us/sample - loss: 0.5286 - acc: 0.7813\n",
      "Epoch 35/100\n",
      "750/750 [==============================] - 0s 48us/sample - loss: 0.5204 - acc: 0.7880\n",
      "Epoch 36/100\n",
      "750/750 [==============================] - 0s 59us/sample - loss: 0.5122 - acc: 0.8000\n",
      "Epoch 37/100\n",
      "750/750 [==============================] - 0s 81us/sample - loss: 0.5044 - acc: 0.8067\n",
      "Epoch 38/100\n",
      "750/750 [==============================] - 0s 59us/sample - loss: 0.4965 - acc: 0.8107\n",
      "Epoch 39/100\n",
      "750/750 [==============================] - 0s 59us/sample - loss: 0.4886 - acc: 0.8160\n",
      "Epoch 40/100\n",
      "750/750 [==============================] - 0s 61us/sample - loss: 0.4809 - acc: 0.8240\n",
      "Epoch 41/100\n",
      "750/750 [==============================] - 0s 63us/sample - loss: 0.4731 - acc: 0.8280\n",
      "Epoch 42/100\n",
      "750/750 [==============================] - 0s 61us/sample - loss: 0.4653 - acc: 0.8347\n",
      "Epoch 43/100\n",
      "750/750 [==============================] - 0s 52us/sample - loss: 0.4576 - acc: 0.8400\n",
      "Epoch 44/100\n",
      "750/750 [==============================] - 0s 49us/sample - loss: 0.4499 - acc: 0.8453\n",
      "Epoch 45/100\n",
      "750/750 [==============================] - 0s 53us/sample - loss: 0.4424 - acc: 0.8507\n",
      "Epoch 46/100\n",
      "750/750 [==============================] - 0s 48us/sample - loss: 0.4348 - acc: 0.8533\n",
      "Epoch 47/100\n",
      "750/750 [==============================] - 0s 54us/sample - loss: 0.4274 - acc: 0.8547\n",
      "Epoch 48/100\n",
      "750/750 [==============================] - 0s 53us/sample - loss: 0.4203 - acc: 0.8573\n",
      "Epoch 49/100\n",
      "750/750 [==============================] - 0s 52us/sample - loss: 0.4134 - acc: 0.8600\n",
      "Epoch 50/100\n",
      "750/750 [==============================] - 0s 51us/sample - loss: 0.4064 - acc: 0.8600\n",
      "Epoch 51/100\n",
      "750/750 [==============================] - 0s 48us/sample - loss: 0.3995 - acc: 0.8613\n",
      "Epoch 52/100\n",
      "750/750 [==============================] - 0s 54us/sample - loss: 0.3926 - acc: 0.8693\n",
      "Epoch 53/100\n",
      "750/750 [==============================] - 0s 54us/sample - loss: 0.3857 - acc: 0.8760\n",
      "Epoch 54/100\n",
      "750/750 [==============================] - 0s 55us/sample - loss: 0.3791 - acc: 0.8787\n",
      "Epoch 55/100\n",
      "750/750 [==============================] - 0s 49us/sample - loss: 0.3726 - acc: 0.8827\n",
      "Epoch 56/100\n",
      "750/750 [==============================] - 0s 55us/sample - loss: 0.3661 - acc: 0.8840\n",
      "Epoch 57/100\n",
      "750/750 [==============================] - 0s 52us/sample - loss: 0.3595 - acc: 0.8867\n",
      "Epoch 58/100\n",
      "750/750 [==============================] - 0s 49us/sample - loss: 0.3531 - acc: 0.8920\n",
      "Epoch 59/100\n",
      "750/750 [==============================] - 0s 68us/sample - loss: 0.3469 - acc: 0.8960\n",
      "Epoch 60/100\n",
      "750/750 [==============================] - 0s 69us/sample - loss: 0.3408 - acc: 0.8973\n",
      "Epoch 61/100\n",
      "750/750 [==============================] - 0s 72us/sample - loss: 0.3348 - acc: 0.9013\n",
      "Epoch 62/100\n",
      "750/750 [==============================] - 0s 53us/sample - loss: 0.3289 - acc: 0.9080\n",
      "Epoch 63/100\n",
      "750/750 [==============================] - 0s 52us/sample - loss: 0.3231 - acc: 0.9107\n",
      "Epoch 64/100\n",
      "750/750 [==============================] - 0s 53us/sample - loss: 0.3173 - acc: 0.9107\n",
      "Epoch 65/100\n",
      "750/750 [==============================] - 0s 49us/sample - loss: 0.3117 - acc: 0.9160\n",
      "Epoch 66/100\n",
      "750/750 [==============================] - 0s 56us/sample - loss: 0.3062 - acc: 0.9173\n",
      "Epoch 67/100\n",
      "750/750 [==============================] - 0s 51us/sample - loss: 0.3009 - acc: 0.9187\n",
      "Epoch 68/100\n",
      "750/750 [==============================] - 0s 56us/sample - loss: 0.2954 - acc: 0.9213\n",
      "Epoch 69/100\n",
      "750/750 [==============================] - 0s 58us/sample - loss: 0.2901 - acc: 0.9240\n",
      "Epoch 70/100\n",
      "750/750 [==============================] - 0s 79us/sample - loss: 0.2849 - acc: 0.9240\n",
      "Epoch 71/100\n",
      "750/750 [==============================] - 0s 65us/sample - loss: 0.2798 - acc: 0.9253\n",
      "Epoch 72/100\n",
      "750/750 [==============================] - 0s 64us/sample - loss: 0.2746 - acc: 0.9307\n",
      "Epoch 73/100\n",
      "750/750 [==============================] - 0s 64us/sample - loss: 0.2696 - acc: 0.9320\n",
      "Epoch 74/100\n",
      "750/750 [==============================] - 0s 68us/sample - loss: 0.2645 - acc: 0.9333\n",
      "Epoch 75/100\n",
      "750/750 [==============================] - 0s 68us/sample - loss: 0.2595 - acc: 0.9400\n",
      "Epoch 76/100\n",
      "750/750 [==============================] - 0s 62us/sample - loss: 0.2546 - acc: 0.9427\n",
      "Epoch 77/100\n",
      "750/750 [==============================] - 0s 61us/sample - loss: 0.2497 - acc: 0.9427\n",
      "Epoch 78/100\n",
      "750/750 [==============================] - 0s 64us/sample - loss: 0.2447 - acc: 0.9427\n",
      "Epoch 79/100\n",
      "750/750 [==============================] - 0s 55us/sample - loss: 0.2397 - acc: 0.9440\n",
      "Epoch 80/100\n",
      "750/750 [==============================] - 0s 51us/sample - loss: 0.2347 - acc: 0.9467\n",
      "Epoch 81/100\n",
      "750/750 [==============================] - 0s 52us/sample - loss: 0.2298 - acc: 0.9480\n",
      "Epoch 82/100\n",
      "750/750 [==============================] - 0s 54us/sample - loss: 0.2250 - acc: 0.9493\n",
      "Epoch 83/100\n",
      "750/750 [==============================] - 0s 55us/sample - loss: 0.2200 - acc: 0.9493\n",
      "Epoch 84/100\n",
      "750/750 [==============================] - 0s 53us/sample - loss: 0.2151 - acc: 0.9507\n",
      "Epoch 85/100\n",
      "750/750 [==============================] - 0s 52us/sample - loss: 0.2103 - acc: 0.9520\n",
      "Epoch 86/100\n",
      "750/750 [==============================] - 0s 56us/sample - loss: 0.2056 - acc: 0.9547\n",
      "Epoch 87/100\n",
      "750/750 [==============================] - ETA: 0s - loss: 0.2172 - acc: 0.937 - 0s 52us/sample - loss: 0.2011 - acc: 0.9547\n",
      "Epoch 88/100\n",
      "750/750 [==============================] - 0s 52us/sample - loss: 0.1966 - acc: 0.9560\n",
      "Epoch 89/100\n",
      "750/750 [==============================] - 0s 56us/sample - loss: 0.1923 - acc: 0.9573\n",
      "Epoch 90/100\n",
      "750/750 [==============================] - 0s 55us/sample - loss: 0.1881 - acc: 0.9573\n",
      "Epoch 91/100\n",
      "750/750 [==============================] - 0s 53us/sample - loss: 0.1838 - acc: 0.9573\n",
      "Epoch 92/100\n",
      "750/750 [==============================] - 0s 53us/sample - loss: 0.1797 - acc: 0.9600\n",
      "Epoch 93/100\n",
      "750/750 [==============================] - 0s 54us/sample - loss: 0.1757 - acc: 0.9600\n",
      "Epoch 94/100\n",
      "750/750 [==============================] - 0s 55us/sample - loss: 0.1718 - acc: 0.9613\n",
      "Epoch 95/100\n",
      "750/750 [==============================] - 0s 66us/sample - loss: 0.1681 - acc: 0.9653\n",
      "Epoch 96/100\n",
      "750/750 [==============================] - 0s 61us/sample - loss: 0.1643 - acc: 0.9693\n",
      "Epoch 97/100\n",
      "750/750 [==============================] - 0s 61us/sample - loss: 0.1607 - acc: 0.9707\n",
      "Epoch 98/100\n",
      "750/750 [==============================] - 0s 64us/sample - loss: 0.1573 - acc: 0.9733\n",
      "Epoch 99/100\n",
      "750/750 [==============================] - 0s 55us/sample - loss: 0.1539 - acc: 0.9733\n",
      "Epoch 100/100\n",
      "750/750 [==============================] - 0s 55us/sample - loss: 0.1506 - acc: 0.9747\n"
     ]
    }
   ],
   "source": [
    "# Fit the model to the training data\n",
    "fit_model = nn_model.fit(X_train_scaled, y_train, epochs=100)"
   ]
  },
  {
   "cell_type": "code",
   "execution_count": 11,
   "metadata": {},
   "outputs": [
    {
     "data": {
      "text/plain": [
       "<matplotlib.axes._subplots.AxesSubplot at 0x26911d9cf88>"
      ]
     },
     "execution_count": 11,
     "metadata": {},
     "output_type": "execute_result"
    },
    {
     "data": {
      "image/png": "[encoded data removed]",
      "text/plain": [
       "<Figure size 432x288 with 1 Axes>"
      ]
     },
     "metadata": {
      "needs_background": "light"
     },
     "output_type": "display_data"
    }
   ],
   "source": [
    "# Create a DataFrame containing training history\n",
    "history_df = pd.DataFrame(fit_model.history, index=range(1,len(fit_model.history[\"loss\"])+1))\n",
    "\n",
    "# Plot the loss\n",
    "history_df.plot(y=\"loss\")"
   ]
  },
  {
   "cell_type": "code",
   "execution_count": 13,
   "metadata": {},
   "outputs": [
    {
     "data": {
      "text/plain": [
       "<matplotlib.axes._subplots.AxesSubplot at 0x26911eafa48>"
      ]
     },
     "execution_count": 13,
     "metadata": {},
     "output_type": "execute_result"
    },
    {
     "data": {
      "image/png": "[encoded data removed]",
      "text/plain": [
       "<Figure size 432x288 with 1 Axes>"
      ]
     },
     "metadata": {
      "needs_background": "light"
     },
     "output_type": "display_data"
    }
   ],
   "source": [
    "# Plot the accuracy\n",
    "history_df.plot(y=\"acc\")"
   ]
  },
  {
   "cell_type": "code",
   "execution_count": 14,
   "metadata": {},
   "outputs": [
    {
     "name": "stdout",
     "output_type": "stream",
     "text": [
      "250/250 - 0s - loss: 0.1364 - acc: 0.9880\n",
      "Loss: 0.13639878284931184, Accuracy: 0.9879999756813049\n"
     ]
    }
   ],
   "source": [
    "# Evaluate the model using the test data\n",
    "model_loss, model_accuracy = nn_model.evaluate(X_test_scaled,y_test,verbose=2)\n",
    "print(f\"Loss: {model_loss}, Accuracy: {model_accuracy}\")"
   ]
  },
  {
   "cell_type": "code",
   "execution_count": 15,
   "metadata": {},
   "outputs": [
    {
     "data": {
      "text/plain": [
       "array([[0],\n",
       "       [1],\n",
       "       [0],\n",
       "       [1],\n",
       "       [0],\n",
       "       [0],\n",
       "       [1],\n",
       "       [1],\n",
       "       [1],\n",
       "       [0]])"
      ]
     },
     "execution_count": 15,
     "metadata": {},
     "output_type": "execute_result"
    }
   ],
   "source": [
    "# Predict the classification of a new set of blob data\n",
    "new_X, new_Y = make_blobs(n_samples=10, centers=2, n_features=2, random_state=78)\n",
    "new_X_scaled = X_scaler.transform(new_X)\n",
    "nn_model.predict_classes(new_X_scaled)"
   ]
  },
  {
   "cell_type": "code",
   "execution_count": 16,
   "metadata": {},
   "outputs": [
    {
     "data": {
      "text/plain": [
       "<matplotlib.axes._subplots.AxesSubplot at 0x26912171ac8>"
      ]
     },
     "execution_count": 16,
     "metadata": {},
     "output_type": "execute_result"
    },
    {
     "data": {
      "image/png": "[encoded data removed]",
      "text/plain": [
       "<Figure size 432x288 with 2 Axes>"
      ]
     },
     "metadata": {
      "needs_background": "light"
     },
     "output_type": "display_data"
    }
   ],
   "source": [
    "from sklearn.datasets import make_moons\n",
    "\n",
    "# Creating dummy nonlinear data\n",
    "X_moons, y_moons = make_moons(n_samples=1000, noise=0.08, random_state=78)\n",
    "\n",
    "# Transforming y_moons to a vertical vector\n",
    "y_moons = y_moons.reshape(-1, 1)\n",
    "\n",
    "# Creating a DataFrame to plot the nonlinear dummy data\n",
    "df_moons = pd.DataFrame(X_moons, columns=[\"Feature 1\", \"Feature 2\"])\n",
    "df_moons[\"Target\"] = y_moons\n",
    "\n",
    "# Plot the nonlinear dummy data\n",
    "df_moons.plot.scatter(x=\"Feature 1\",y=\"Feature 2\", c=\"Target\",colormap=\"winter\")"
   ]
  },
  {
   "cell_type": "code",
   "execution_count": 17,
   "metadata": {},
   "outputs": [],
   "source": [
    "# Create training and testing sets\n",
    "X_moon_train, X_moon_test, y_moon_train, y_moon_test = train_test_split(\n",
    "    X_moons, y_moons, random_state=78\n",
    ")\n",
    "\n",
    "# Create the scaler instance\n",
    "X_moon_scaler = skl.preprocessing.StandardScaler()\n",
    "\n",
    "# Fit the scaler\n",
    "X_moon_scaler.fit(X_moon_train)\n",
    "\n",
    "# Scale the data\n",
    "X_moon_train_scaled = X_moon_scaler.transform(X_moon_train)\n",
    "X_moon_test_scaled = X_moon_scaler.transform(X_moon_test)"
   ]
  },
  {
   "cell_type": "code",
   "execution_count": 18,
   "metadata": {
    "collapsed": true,
    "jupyter": {
     "outputs_hidden": true
    }
   },
   "outputs": [
    {
     "name": "stdout",
     "output_type": "stream",
     "text": [
      "Epoch 1/100\n",
      "750/750 [==============================] - 0s 52us/sample - loss: 1.8067 - acc: 0.2840\n",
      "Epoch 2/100\n",
      "750/750 [==============================] - 0s 51us/sample - loss: 1.5652 - acc: 0.3000\n",
      "Epoch 3/100\n",
      "750/750 [==============================] - 0s 51us/sample - loss: 1.4022 - acc: 0.3093\n",
      "Epoch 4/100\n",
      "750/750 [==============================] - 0s 55us/sample - loss: 1.2882 - acc: 0.3253\n",
      "Epoch 5/100\n",
      "750/750 [==============================] - 0s 54us/sample - loss: 1.2064 - acc: 0.3440\n",
      "Epoch 6/100\n",
      "750/750 [==============================] - 0s 68us/sample - loss: 1.1440 - acc: 0.3533\n",
      "Epoch 7/100\n",
      "750/750 [==============================] - 0s 56us/sample - loss: 1.0930 - acc: 0.3613\n",
      "Epoch 8/100\n",
      "750/750 [==============================] - 0s 52us/sample - loss: 1.0511 - acc: 0.3827\n",
      "Epoch 9/100\n",
      "750/750 [==============================] - 0s 55us/sample - loss: 1.0157 - acc: 0.3960\n",
      "Epoch 10/100\n",
      "750/750 [==============================] - 0s 52us/sample - loss: 0.9851 - acc: 0.4040\n",
      "Epoch 11/100\n",
      "750/750 [==============================] - 0s 65us/sample - loss: 0.9589 - acc: 0.4160\n",
      "Epoch 12/100\n",
      "750/750 [==============================] - 0s 72us/sample - loss: 0.9350 - acc: 0.4280\n",
      "Epoch 13/100\n",
      "750/750 [==============================] - 0s 71us/sample - loss: 0.9137 - acc: 0.4413\n",
      "Epoch 14/100\n",
      "750/750 [==============================] - 0s 68us/sample - loss: 0.8941 - acc: 0.4480\n",
      "Epoch 15/100\n",
      "750/750 [==============================] - 0s 69us/sample - loss: 0.8764 - acc: 0.4600\n",
      "Epoch 16/100\n",
      "750/750 [==============================] - 0s 71us/sample - loss: 0.8595 - acc: 0.4720\n",
      "Epoch 17/100\n",
      "750/750 [==============================] - 0s 69us/sample - loss: 0.8441 - acc: 0.4840\n",
      "Epoch 18/100\n",
      "750/750 [==============================] - 0s 69us/sample - loss: 0.8297 - acc: 0.4987\n",
      "Epoch 19/100\n",
      "750/750 [==============================] - 0s 67us/sample - loss: 0.8160 - acc: 0.5093\n",
      "Epoch 20/100\n",
      "750/750 [==============================] - 0s 63us/sample - loss: 0.8026 - acc: 0.5240\n",
      "Epoch 21/100\n",
      "750/750 [==============================] - 0s 68us/sample - loss: 0.7903 - acc: 0.5333\n",
      "Epoch 22/100\n",
      "750/750 [==============================] - 0s 69us/sample - loss: 0.7785 - acc: 0.5413\n",
      "Epoch 23/100\n",
      "750/750 [==============================] - 0s 71us/sample - loss: 0.7674 - acc: 0.5467\n",
      "Epoch 24/100\n",
      "750/750 [==============================] - 0s 72us/sample - loss: 0.7571 - acc: 0.5533\n",
      "Epoch 25/100\n",
      "750/750 [==============================] - 0s 83us/sample - loss: 0.7470 - acc: 0.5600\n",
      "Epoch 26/100\n",
      "750/750 [==============================] - 0s 85us/sample - loss: 0.7379 - acc: 0.5693\n",
      "Epoch 27/100\n",
      "750/750 [==============================] - 0s 84us/sample - loss: 0.7290 - acc: 0.5800\n",
      "Epoch 28/100\n",
      "750/750 [==============================] - 0s 80us/sample - loss: 0.7205 - acc: 0.5827\n",
      "Epoch 29/100\n",
      "750/750 [==============================] - 0s 69us/sample - loss: 0.7123 - acc: 0.5867\n",
      "Epoch 30/100\n",
      "750/750 [==============================] - 0s 70us/sample - loss: 0.7043 - acc: 0.5907\n",
      "Epoch 31/100\n",
      "750/750 [==============================] - 0s 67us/sample - loss: 0.6967 - acc: 0.5933\n",
      "Epoch 32/100\n",
      "750/750 [==============================] - 0s 78us/sample - loss: 0.6891 - acc: 0.6027\n",
      "Epoch 33/100\n",
      "750/750 [==============================] - 0s 66us/sample - loss: 0.6821 - acc: 0.6120\n",
      "Epoch 34/100\n",
      "750/750 [==============================] - 0s 68us/sample - loss: 0.6752 - acc: 0.6200\n",
      "Epoch 35/100\n",
      "750/750 [==============================] - 0s 72us/sample - loss: 0.6688 - acc: 0.6240\n",
      "Epoch 36/100\n",
      "750/750 [==============================] - 0s 76us/sample - loss: 0.6626 - acc: 0.6267\n",
      "Epoch 37/100\n",
      "750/750 [==============================] - 0s 66us/sample - loss: 0.6568 - acc: 0.6293\n",
      "Epoch 38/100\n",
      "750/750 [==============================] - 0s 76us/sample - loss: 0.6512 - acc: 0.6307\n",
      "Epoch 39/100\n",
      "750/750 [==============================] - 0s 79us/sample - loss: 0.6459 - acc: 0.6333\n",
      "Epoch 40/100\n",
      "750/750 [==============================] - 0s 84us/sample - loss: 0.6408 - acc: 0.6333\n",
      "Epoch 41/100\n",
      "750/750 [==============================] - 0s 84us/sample - loss: 0.6358 - acc: 0.6347\n",
      "Epoch 42/100\n",
      "750/750 [==============================] - 0s 85us/sample - loss: 0.6311 - acc: 0.6360\n",
      "Epoch 43/100\n",
      "750/750 [==============================] - 0s 80us/sample - loss: 0.6266 - acc: 0.6373\n",
      "Epoch 44/100\n",
      "750/750 [==============================] - 0s 84us/sample - loss: 0.6223 - acc: 0.6440\n",
      "Epoch 45/100\n",
      "750/750 [==============================] - 0s 72us/sample - loss: 0.6182 - acc: 0.6493\n",
      "Epoch 46/100\n",
      "750/750 [==============================] - 0s 77us/sample - loss: 0.6141 - acc: 0.6507\n",
      "Epoch 47/100\n",
      "750/750 [==============================] - 0s 77us/sample - loss: 0.6104 - acc: 0.6507\n",
      "Epoch 48/100\n",
      "750/750 [==============================] - 0s 72us/sample - loss: 0.6067 - acc: 0.6480\n",
      "Epoch 49/100\n",
      "750/750 [==============================] - 0s 77us/sample - loss: 0.6032 - acc: 0.6507\n",
      "Epoch 50/100\n",
      "750/750 [==============================] - 0s 65us/sample - loss: 0.5998 - acc: 0.6573\n",
      "Epoch 51/100\n",
      "750/750 [==============================] - 0s 72us/sample - loss: 0.5963 - acc: 0.6640\n",
      "Epoch 52/100\n",
      "750/750 [==============================] - ETA: 0s - loss: 0.6243 - acc: 0.593 - 0s 72us/sample - loss: 0.5930 - acc: 0.6680\n",
      "Epoch 53/100\n",
      "750/750 [==============================] - 0s 71us/sample - loss: 0.5897 - acc: 0.6733\n",
      "Epoch 54/100\n",
      "750/750 [==============================] - 0s 72us/sample - loss: 0.5865 - acc: 0.6773\n",
      "Epoch 55/100\n",
      "750/750 [==============================] - 0s 55us/sample - loss: 0.5834 - acc: 0.6747\n",
      "Epoch 56/100\n",
      "750/750 [==============================] - 0s 55us/sample - loss: 0.5805 - acc: 0.6773\n",
      "Epoch 57/100\n",
      "750/750 [==============================] - 0s 56us/sample - loss: 0.5777 - acc: 0.6800\n",
      "Epoch 58/100\n",
      "750/750 [==============================] - 0s 57us/sample - loss: 0.5750 - acc: 0.6813\n",
      "Epoch 59/100\n",
      "750/750 [==============================] - 0s 52us/sample - loss: 0.5723 - acc: 0.6827\n",
      "Epoch 60/100\n",
      "750/750 [==============================] - 0s 52us/sample - loss: 0.5696 - acc: 0.6840\n",
      "Epoch 61/100\n",
      "750/750 [==============================] - 0s 52us/sample - loss: 0.5669 - acc: 0.6840\n",
      "Epoch 62/100\n",
      "750/750 [==============================] - 0s 57us/sample - loss: 0.5643 - acc: 0.6880\n",
      "Epoch 63/100\n",
      "750/750 [==============================] - 0s 53us/sample - loss: 0.5615 - acc: 0.6893\n",
      "Epoch 64/100\n",
      "750/750 [==============================] - 0s 54us/sample - loss: 0.5588 - acc: 0.6907\n",
      "Epoch 65/100\n",
      "750/750 [==============================] - 0s 53us/sample - loss: 0.5561 - acc: 0.6907\n",
      "Epoch 66/100\n",
      "750/750 [==============================] - 0s 68us/sample - loss: 0.5533 - acc: 0.6933\n",
      "Epoch 67/100\n",
      "750/750 [==============================] - 0s 72us/sample - loss: 0.5506 - acc: 0.6973\n",
      "Epoch 68/100\n",
      "750/750 [==============================] - 0s 71us/sample - loss: 0.5478 - acc: 0.7000\n",
      "Epoch 69/100\n",
      "750/750 [==============================] - 0s 84us/sample - loss: 0.5453 - acc: 0.7000\n",
      "Epoch 70/100\n",
      "750/750 [==============================] - 0s 84us/sample - loss: 0.5427 - acc: 0.7013\n",
      "Epoch 71/100\n",
      "750/750 [==============================] - 0s 89us/sample - loss: 0.5402 - acc: 0.7027\n",
      "Epoch 72/100\n",
      "750/750 [==============================] - 0s 85us/sample - loss: 0.5378 - acc: 0.7027\n",
      "Epoch 73/100\n",
      "750/750 [==============================] - 0s 80us/sample - loss: 0.5354 - acc: 0.7027\n",
      "Epoch 74/100\n",
      "750/750 [==============================] - 0s 68us/sample - loss: 0.5329 - acc: 0.7040\n",
      "Epoch 75/100\n",
      "750/750 [==============================] - 0s 78us/sample - loss: 0.5306 - acc: 0.7040\n",
      "Epoch 76/100\n",
      "750/750 [==============================] - 0s 79us/sample - loss: 0.5282 - acc: 0.7053\n",
      "Epoch 77/100\n",
      "750/750 [==============================] - 0s 71us/sample - loss: 0.5260 - acc: 0.7080\n",
      "Epoch 78/100\n",
      "750/750 [==============================] - 0s 79us/sample - loss: 0.5239 - acc: 0.7093\n",
      "Epoch 79/100\n",
      "750/750 [==============================] - 0s 71us/sample - loss: 0.5217 - acc: 0.7120\n",
      "Epoch 80/100\n",
      "750/750 [==============================] - 0s 79us/sample - loss: 0.5194 - acc: 0.7160\n",
      "Epoch 81/100\n",
      "750/750 [==============================] - 0s 77us/sample - loss: 0.5172 - acc: 0.7187\n",
      "Epoch 82/100\n",
      "750/750 [==============================] - 0s 67us/sample - loss: 0.5149 - acc: 0.7187\n",
      "Epoch 83/100\n",
      "750/750 [==============================] - 0s 78us/sample - loss: 0.5126 - acc: 0.7213\n",
      "Epoch 84/100\n",
      "750/750 [==============================] - 0s 84us/sample - loss: 0.5103 - acc: 0.7240\n",
      "Epoch 85/100\n",
      "750/750 [==============================] - 0s 82us/sample - loss: 0.5080 - acc: 0.7267\n",
      "Epoch 86/100\n",
      "750/750 [==============================] - 0s 87us/sample - loss: 0.5057 - acc: 0.7293\n",
      "Epoch 87/100\n",
      "750/750 [==============================] - 0s 55us/sample - loss: 0.5033 - acc: 0.7307\n",
      "Epoch 88/100\n",
      "750/750 [==============================] - 0s 51us/sample - loss: 0.5010 - acc: 0.7333\n",
      "Epoch 89/100\n",
      "750/750 [==============================] - 0s 56us/sample - loss: 0.4988 - acc: 0.7400\n",
      "Epoch 90/100\n",
      "750/750 [==============================] - 0s 55us/sample - loss: 0.4967 - acc: 0.7427\n",
      "Epoch 91/100\n",
      "750/750 [==============================] - 0s 52us/sample - loss: 0.4944 - acc: 0.7467\n",
      "Epoch 92/100\n",
      "750/750 [==============================] - 0s 54us/sample - loss: 0.4922 - acc: 0.7467\n",
      "Epoch 93/100\n",
      "750/750 [==============================] - 0s 64us/sample - loss: 0.4899 - acc: 0.7480\n",
      "Epoch 94/100\n",
      "750/750 [==============================] - 0s 50us/sample - loss: 0.4877 - acc: 0.7493\n",
      "Epoch 95/100\n",
      "750/750 [==============================] - 0s 52us/sample - loss: 0.4854 - acc: 0.7533\n",
      "Epoch 96/100\n",
      "750/750 [==============================] - 0s 56us/sample - loss: 0.4831 - acc: 0.7573\n",
      "Epoch 97/100\n",
      "750/750 [==============================] - 0s 54us/sample - loss: 0.4809 - acc: 0.7573\n",
      "Epoch 98/100\n",
      "750/750 [==============================] - 0s 56us/sample - loss: 0.4786 - acc: 0.7600\n",
      "Epoch 99/100\n",
      "750/750 [==============================] - 0s 53us/sample - loss: 0.4765 - acc: 0.7613\n",
      "Epoch 100/100\n",
      "750/750 [==============================] - 0s 69us/sample - loss: 0.4743 - acc: 0.7613\n"
     ]
    }
   ],
   "source": [
    "# Training the model with the nonlinear data\n",
    "model_moon = nn_model.fit(X_moon_train_scaled, y_moon_train, epochs=100, shuffle=True)"
   ]
  },
  {
   "cell_type": "code",
   "execution_count": 19,
   "metadata": {},
   "outputs": [
    {
     "data": {
      "text/plain": [
       "<matplotlib.axes._subplots.AxesSubplot at 0x269131e0f88>"
      ]
     },
     "execution_count": 19,
     "metadata": {},
     "output_type": "execute_result"
    },
    {
     "data": {
      "image/png": "[encoded data removed]",
      "text/plain": [
       "<Figure size 432x288 with 1 Axes>"
      ]
     },
     "metadata": {
      "needs_background": "light"
     },
     "output_type": "display_data"
    }
   ],
   "source": [
    "# Create a DataFrame containing training history\n",
    "history_df = pd.DataFrame(model_moon.history, index=range(1,len(model_moon.history[\"loss\"])+1))\n",
    "\n",
    "# Plot the loss\n",
    "history_df.plot(y=\"loss\")"
   ]
  },
  {
   "cell_type": "code",
   "execution_count": 20,
   "metadata": {},
   "outputs": [
    {
     "data": {
      "text/plain": [
       "<matplotlib.axes._subplots.AxesSubplot at 0x26913256408>"
      ]
     },
     "execution_count": 20,
     "metadata": {},
     "output_type": "execute_result"
    },
    {
     "data": {
      "image/png": "[encoded data removed]",
      "text/plain": [
       "<Figure size 432x288 with 1 Axes>"
      ]
     },
     "metadata": {
      "needs_background": "light"
     },
     "output_type": "display_data"
    }
   ],
   "source": [
    "# Plot the loss\n",
    "history_df.plot(y=\"acc\")"
   ]
  },
  {
   "cell_type": "code",
   "execution_count": 21,
   "metadata": {},
   "outputs": [],
   "source": [
    "# Generate our new Sequential model\n",
    "new_model = tf.keras.models.Sequential()"
   ]
  },
  {
   "cell_type": "code",
   "execution_count": 22,
   "metadata": {},
   "outputs": [],
   "source": [
    "# Add the input and hidden layer\n",
    "number_inputs = 2\n",
    "number_hidden_nodes = 6\n",
    "\n",
    "new_model.add(tf.keras.layers.Dense(units=number_hidden_nodes, activation=\"relu\", input_dim=number_inputs))\n",
    "\n",
    "# Add the output layer that uses a probability activation function\n",
    "new_model.add(tf.keras.layers.Dense(units=1, activation=\"sigmoid\"))"
   ]
  },
  {
   "cell_type": "code",
   "execution_count": 23,
   "metadata": {
    "collapsed": true,
    "jupyter": {
     "outputs_hidden": true
    }
   },
   "outputs": [
    {
     "name": "stdout",
     "output_type": "stream",
     "text": [
      "Epoch 1/100\n",
      "750/750 [==============================] - 0s 345us/sample - loss: 0.4582 - acc: 0.8573\n",
      "Epoch 2/100\n",
      "750/750 [==============================] - 0s 77us/sample - loss: 0.4359 - acc: 0.8547\n",
      "Epoch 3/100\n",
      "750/750 [==============================] - 0s 69us/sample - loss: 0.4160 - acc: 0.8547\n",
      "Epoch 4/100\n",
      "750/750 [==============================] - 0s 71us/sample - loss: 0.3984 - acc: 0.8520\n",
      "Epoch 5/100\n",
      "750/750 [==============================] - 0s 68us/sample - loss: 0.3824 - acc: 0.8493\n",
      "Epoch 6/100\n",
      "750/750 [==============================] - 0s 77us/sample - loss: 0.3679 - acc: 0.8493\n",
      "Epoch 7/100\n",
      "750/750 [==============================] - 0s 73us/sample - loss: 0.3549 - acc: 0.8520\n",
      "Epoch 8/100\n",
      "750/750 [==============================] - 0s 67us/sample - loss: 0.3430 - acc: 0.8547\n",
      "Epoch 9/100\n",
      "750/750 [==============================] - 0s 80us/sample - loss: 0.3324 - acc: 0.8573\n",
      "Epoch 10/100\n",
      "750/750 [==============================] - 0s 71us/sample - loss: 0.3226 - acc: 0.8600\n",
      "Epoch 11/100\n",
      "750/750 [==============================] - 0s 68us/sample - loss: 0.3137 - acc: 0.8653\n",
      "Epoch 12/100\n",
      "750/750 [==============================] - 0s 80us/sample - loss: 0.3060 - acc: 0.8653\n",
      "Epoch 13/100\n",
      "750/750 [==============================] - 0s 69us/sample - loss: 0.2989 - acc: 0.8653\n",
      "Epoch 14/100\n",
      "750/750 [==============================] - 0s 69us/sample - loss: 0.2928 - acc: 0.8680\n",
      "Epoch 15/100\n",
      "750/750 [==============================] - 0s 65us/sample - loss: 0.2873 - acc: 0.8693\n",
      "Epoch 16/100\n",
      "750/750 [==============================] - 0s 79us/sample - loss: 0.2823 - acc: 0.8720\n",
      "Epoch 17/100\n",
      "750/750 [==============================] - 0s 69us/sample - loss: 0.2779 - acc: 0.8747\n",
      "Epoch 18/100\n",
      "750/750 [==============================] - 0s 71us/sample - loss: 0.2737 - acc: 0.8773\n",
      "Epoch 19/100\n",
      "750/750 [==============================] - 0s 71us/sample - loss: 0.2704 - acc: 0.8827\n",
      "Epoch 20/100\n",
      "750/750 [==============================] - 0s 69us/sample - loss: 0.2672 - acc: 0.8827\n",
      "Epoch 21/100\n",
      "750/750 [==============================] - 0s 80us/sample - loss: 0.2643 - acc: 0.8827\n",
      "Epoch 22/100\n",
      "750/750 [==============================] - 0s 89us/sample - loss: 0.2617 - acc: 0.8840\n",
      "Epoch 23/100\n",
      "750/750 [==============================] - 0s 88us/sample - loss: 0.2595 - acc: 0.8853\n",
      "Epoch 24/100\n",
      "750/750 [==============================] - 0s 71us/sample - loss: 0.2574 - acc: 0.8880\n",
      "Epoch 25/100\n",
      "750/750 [==============================] - 0s 68us/sample - loss: 0.2552 - acc: 0.8893\n",
      "Epoch 26/100\n",
      "750/750 [==============================] - 0s 79us/sample - loss: 0.2535 - acc: 0.8880\n",
      "Epoch 27/100\n",
      "750/750 [==============================] - 0s 67us/sample - loss: 0.2519 - acc: 0.8880\n",
      "Epoch 28/100\n",
      "750/750 [==============================] - 0s 73us/sample - loss: 0.2502 - acc: 0.8867\n",
      "Epoch 29/100\n",
      "750/750 [==============================] - 0s 67us/sample - loss: 0.2488 - acc: 0.8907\n",
      "Epoch 30/100\n",
      "750/750 [==============================] - 0s 56us/sample - loss: 0.2476 - acc: 0.8920\n",
      "Epoch 31/100\n",
      "750/750 [==============================] - 0s 57us/sample - loss: 0.2464 - acc: 0.8920\n",
      "Epoch 32/100\n",
      "750/750 [==============================] - 0s 56us/sample - loss: 0.2452 - acc: 0.8933\n",
      "Epoch 33/100\n",
      "750/750 [==============================] - 0s 53us/sample - loss: 0.2442 - acc: 0.8933\n",
      "Epoch 34/100\n",
      "750/750 [==============================] - 0s 52us/sample - loss: 0.2431 - acc: 0.8933\n",
      "Epoch 35/100\n",
      "750/750 [==============================] - 0s 55us/sample - loss: 0.2422 - acc: 0.8933\n",
      "Epoch 36/100\n",
      "750/750 [==============================] - 0s 59us/sample - loss: 0.2412 - acc: 0.8947\n",
      "Epoch 37/100\n",
      "750/750 [==============================] - 0s 77us/sample - loss: 0.2404 - acc: 0.8947\n",
      "Epoch 38/100\n",
      "750/750 [==============================] - 0s 80us/sample - loss: 0.2396 - acc: 0.8947\n",
      "Epoch 39/100\n",
      "750/750 [==============================] - 0s 71us/sample - loss: 0.2389 - acc: 0.8947\n",
      "Epoch 40/100\n",
      "750/750 [==============================] - 0s 77us/sample - loss: 0.2380 - acc: 0.8947\n",
      "Epoch 41/100\n",
      "750/750 [==============================] - 0s 49us/sample - loss: 0.2372 - acc: 0.8947\n",
      "Epoch 42/100\n",
      "750/750 [==============================] - 0s 57us/sample - loss: 0.2364 - acc: 0.8947\n",
      "Epoch 43/100\n",
      "750/750 [==============================] - 0s 51us/sample - loss: 0.2357 - acc: 0.8973\n",
      "Epoch 44/100\n",
      "750/750 [==============================] - 0s 56us/sample - loss: 0.2350 - acc: 0.8973\n",
      "Epoch 45/100\n",
      "750/750 [==============================] - 0s 53us/sample - loss: 0.2342 - acc: 0.8987\n",
      "Epoch 46/100\n",
      "750/750 [==============================] - 0s 56us/sample - loss: 0.2335 - acc: 0.8987\n",
      "Epoch 47/100\n",
      "750/750 [==============================] - 0s 55us/sample - loss: 0.2328 - acc: 0.9000\n",
      "Epoch 48/100\n",
      "750/750 [==============================] - 0s 56us/sample - loss: 0.2321 - acc: 0.9000\n",
      "Epoch 49/100\n",
      "750/750 [==============================] - 0s 57us/sample - loss: 0.2314 - acc: 0.9000\n",
      "Epoch 50/100\n",
      "750/750 [==============================] - 0s 53us/sample - loss: 0.2307 - acc: 0.9000\n",
      "Epoch 51/100\n",
      "750/750 [==============================] - 0s 55us/sample - loss: 0.2300 - acc: 0.9013\n",
      "Epoch 52/100\n",
      "750/750 [==============================] - 0s 57us/sample - loss: 0.2294 - acc: 0.9013\n",
      "Epoch 53/100\n",
      "750/750 [==============================] - 0s 53us/sample - loss: 0.2287 - acc: 0.9013\n",
      "Epoch 54/100\n",
      "750/750 [==============================] - 0s 55us/sample - loss: 0.2281 - acc: 0.9027\n",
      "Epoch 55/100\n",
      "750/750 [==============================] - 0s 61us/sample - loss: 0.2274 - acc: 0.9027\n",
      "Epoch 56/100\n",
      "750/750 [==============================] - 0s 73us/sample - loss: 0.2267 - acc: 0.9040\n",
      "Epoch 57/100\n",
      "750/750 [==============================] - 0s 80us/sample - loss: 0.2259 - acc: 0.9040\n",
      "Epoch 58/100\n",
      "750/750 [==============================] - 0s 73us/sample - loss: 0.2252 - acc: 0.9053\n",
      "Epoch 59/100\n",
      "750/750 [==============================] - 0s 71us/sample - loss: 0.2246 - acc: 0.9053\n",
      "Epoch 60/100\n",
      "750/750 [==============================] - 0s 77us/sample - loss: 0.2238 - acc: 0.9053\n",
      "Epoch 61/100\n",
      "750/750 [==============================] - 0s 71us/sample - loss: 0.2232 - acc: 0.9053\n",
      "Epoch 62/100\n",
      "750/750 [==============================] - 0s 79us/sample - loss: 0.2224 - acc: 0.9067\n",
      "Epoch 63/100\n",
      "750/750 [==============================] - 0s 79us/sample - loss: 0.2217 - acc: 0.9067\n",
      "Epoch 64/100\n",
      "750/750 [==============================] - 0s 71us/sample - loss: 0.2210 - acc: 0.9080\n",
      "Epoch 65/100\n",
      "750/750 [==============================] - 0s 69us/sample - loss: 0.2204 - acc: 0.9080\n",
      "Epoch 66/100\n",
      "750/750 [==============================] - 0s 67us/sample - loss: 0.2196 - acc: 0.9080\n",
      "Epoch 67/100\n",
      "750/750 [==============================] - 0s 72us/sample - loss: 0.2188 - acc: 0.9107\n",
      "Epoch 68/100\n",
      "750/750 [==============================] - 0s 64us/sample - loss: 0.2181 - acc: 0.9107\n",
      "Epoch 69/100\n",
      "750/750 [==============================] - 0s 72us/sample - loss: 0.2174 - acc: 0.9107\n",
      "Epoch 70/100\n",
      "750/750 [==============================] - 0s 70us/sample - loss: 0.2166 - acc: 0.9107\n",
      "Epoch 71/100\n",
      "750/750 [==============================] - 0s 72us/sample - loss: 0.2158 - acc: 0.9107\n",
      "Epoch 72/100\n",
      "750/750 [==============================] - 0s 67us/sample - loss: 0.2151 - acc: 0.9107\n",
      "Epoch 73/100\n",
      "750/750 [==============================] - 0s 72us/sample - loss: 0.2145 - acc: 0.9120\n",
      "Epoch 74/100\n",
      "750/750 [==============================] - 0s 72us/sample - loss: 0.2137 - acc: 0.9120\n",
      "Epoch 75/100\n",
      "750/750 [==============================] - 0s 72us/sample - loss: 0.2130 - acc: 0.9133\n",
      "Epoch 76/100\n",
      "750/750 [==============================] - 0s 80us/sample - loss: 0.2123 - acc: 0.9120\n",
      "Epoch 77/100\n",
      "750/750 [==============================] - 0s 68us/sample - loss: 0.2115 - acc: 0.9133\n",
      "Epoch 78/100\n",
      "750/750 [==============================] - 0s 69us/sample - loss: 0.2109 - acc: 0.9133\n",
      "Epoch 79/100\n",
      "750/750 [==============================] - 0s 65us/sample - loss: 0.2101 - acc: 0.9133\n",
      "Epoch 80/100\n",
      "750/750 [==============================] - 0s 72us/sample - loss: 0.2094 - acc: 0.9147\n",
      "Epoch 81/100\n",
      "750/750 [==============================] - 0s 70us/sample - loss: 0.2087 - acc: 0.9147\n",
      "Epoch 82/100\n",
      "750/750 [==============================] - 0s 71us/sample - loss: 0.2081 - acc: 0.9147\n",
      "Epoch 83/100\n",
      "750/750 [==============================] - 0s 69us/sample - loss: 0.2073 - acc: 0.9147\n",
      "Epoch 84/100\n",
      "750/750 [==============================] - 0s 72us/sample - loss: 0.2065 - acc: 0.9147\n",
      "Epoch 85/100\n",
      "750/750 [==============================] - 0s 68us/sample - loss: 0.2057 - acc: 0.9160\n",
      "Epoch 86/100\n",
      "750/750 [==============================] - 0s 72us/sample - loss: 0.2048 - acc: 0.9160\n",
      "Epoch 87/100\n",
      "750/750 [==============================] - 0s 71us/sample - loss: 0.2041 - acc: 0.9173\n",
      "Epoch 88/100\n",
      "750/750 [==============================] - 0s 72us/sample - loss: 0.2030 - acc: 0.9160\n",
      "Epoch 89/100\n",
      "750/750 [==============================] - 0s 72us/sample - loss: 0.2020 - acc: 0.9160\n",
      "Epoch 90/100\n",
      "750/750 [==============================] - 0s 65us/sample - loss: 0.2011 - acc: 0.9160\n",
      "Epoch 91/100\n",
      "750/750 [==============================] - 0s 68us/sample - loss: 0.2001 - acc: 0.9187\n",
      "Epoch 92/100\n",
      "750/750 [==============================] - 0s 76us/sample - loss: 0.1993 - acc: 0.9187\n",
      "Epoch 93/100\n",
      "750/750 [==============================] - 0s 69us/sample - loss: 0.1983 - acc: 0.9187\n",
      "Epoch 94/100\n",
      "750/750 [==============================] - 0s 68us/sample - loss: 0.1973 - acc: 0.9187\n",
      "Epoch 95/100\n",
      "750/750 [==============================] - 0s 83us/sample - loss: 0.1962 - acc: 0.9187\n",
      "Epoch 96/100\n",
      "750/750 [==============================] - 0s 67us/sample - loss: 0.1952 - acc: 0.9187\n",
      "Epoch 97/100\n",
      "750/750 [==============================] - 0s 77us/sample - loss: 0.1941 - acc: 0.9187\n",
      "Epoch 98/100\n",
      "750/750 [==============================] - 0s 67us/sample - loss: 0.1931 - acc: 0.9187\n",
      "Epoch 99/100\n",
      "750/750 [==============================] - 0s 77us/sample - loss: 0.1920 - acc: 0.9200\n",
      "Epoch 100/100\n",
      "750/750 [==============================] - 0s 69us/sample - loss: 0.1907 - acc: 0.9200\n"
     ]
    }
   ],
   "source": [
    "# Compile the Sequential model together and customize metrics\n",
    "new_model.compile(loss=\"binary_crossentropy\", optimizer=\"adam\", metrics=[\"accuracy\"])\n",
    "\n",
    "# Fit the model to the training data\n",
    "new_fit_model = new_model.fit(X_moon_train_scaled, y_moon_train, epochs=100, shuffle=True)"
   ]
  },
  {
   "cell_type": "code",
   "execution_count": null,
   "metadata": {},
   "outputs": [],
   "source": []
  },
  {
   "cell_type": "code",
   "execution_count": null,
   "metadata": {},
   "outputs": [],
   "source": []
  }
 ],
 "metadata": {
  "kernelspec": {
   "display_name": "PythonData",
   "language": "python",
   "name": "pythondata"
  },
  "language_info": {
   "codemirror_mode": {
    "name": "ipython",
    "version": 3
   },
   "file_extension": ".py",
   "mimetype": "text/x-python",
   "name": "python",
   "nbconvert_exporter": "python",
   "pygments_lexer": "ipython3",
   "version": "3.7.6"
  }
 },
 "nbformat": 4,
 "nbformat_minor": 4
}
